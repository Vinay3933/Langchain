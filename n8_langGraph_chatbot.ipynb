{
 "cells": [
  {
   "cell_type": "code",
   "execution_count": 3,
   "metadata": {},
   "outputs": [],
   "source": [
    "import os\n",
    "from langchain_community.chat_models.ollama import ChatOllama\n",
    "\n",
    "llm = ChatOllama(model=\"llama3\", temperature=0)"
   ]
  },
  {
   "cell_type": "code",
   "execution_count": 2,
   "metadata": {},
   "outputs": [
    {
     "name": "stdout",
     "output_type": "stream",
     "text": [
      "<class 'langchain_core.messages.ai.AIMessage'>\n",
      "content='{}' response_metadata={'model': 'llama3', 'created_at': '2024-06-15T13:24:24.320391Z', 'message': {'role': 'assistant', 'content': ''}, 'done_reason': 'stop', 'done': True, 'total_duration': 181570791, 'load_duration': 1240041, 'prompt_eval_count': 11, 'prompt_eval_duration': 160378000, 'eval_count': 2, 'eval_duration': 17647000} id='run-101433fd-7256-4547-994b-a6a485597cb8-0'\n"
     ]
    }
   ],
   "source": [
    "response = llm.invoke(\"What is the capital of Nepal\")\n",
    "print(type(response))\n",
    "print(response)"
   ]
  },
  {
   "cell_type": "code",
   "execution_count": 10,
   "metadata": {},
   "outputs": [
    {
     "name": "stdout",
     "output_type": "stream",
     "text": [
      "Here are five small jokes:\n",
      "\n",
      "1. Why don't eggs tell jokes? They'd crack each other up!\n",
      "2. What do you call a fake noodle? An impasta!\n",
      "3. Why did the scarecrow win an award? Because he was outstanding in his field!\n",
      "4. What do you call a can opener that doesn't work? A can't opener!\n",
      "5. Why did the bicycle fall over? Because it was two-tired!\n",
      "\n",
      "I hope these little jokes bring a smile to your face!\n"
     ]
    }
   ],
   "source": [
    "from langchain_core.output_parsers import StrOutputParser\n",
    "\n",
    "test_chain = llm | StrOutputParser()\n",
    "\n",
    "print(test_chain.invoke(\"Tell me 5 small jokes \"))"
   ]
  },
  {
   "cell_type": "markdown",
   "metadata": {},
   "source": [
    "#### Testing with foramt as JSON"
   ]
  },
  {
   "cell_type": "code",
   "execution_count": 4,
   "metadata": {},
   "outputs": [],
   "source": [
    "# from langchain_community.chat_models import ChatOllama\n",
    "# from langchain_core.output_parsers import JsonOutputParser\n",
    "# from langchain_core.prompts import PromptTemplate\n",
    "\n",
    "# # LLM\n",
    "# llm = ChatOllama(model='llama3', format=\"json\", temperature=0)\n",
    "\n",
    "# prompt = PromptTemplate(\n",
    "#     template=\"\"\"<|begin_of_text|><|start_header_id|>system<|end_header_id|> You are a helpful assistant. Answer the user\n",
    "#     question honestly. Format of the answer should be in json with 1 key as 'answer'.\n",
    "#     User will provide a statement, reply to the user honestly.\n",
    "#     Do not include any pre-amble before the answer\n",
    "#      <|eot_id|><|start_header_id|>user<|end_header_id|>\n",
    "#     Here is the user statement: {statement} \\n <|eot_id|><|start_header_id|>assistant<|end_header_id|>\n",
    "#     \"\"\",\n",
    "#     input_variables=[\"statement\"],\n",
    "# )\n",
    "\n",
    "# test_llm = prompt | llm | JsonOutputParser()\n",
    "# question = \"Tell me a joke about batman\"\n",
    "# print(test_llm.invoke({\"statement\": question}))"
   ]
  },
  {
   "cell_type": "markdown",
   "metadata": {},
   "source": [
    "## Part 1. Basic Chatbot"
   ]
  },
  {
   "cell_type": "code",
   "execution_count": 5,
   "metadata": {},
   "outputs": [],
   "source": [
    "from typing import Annotated\n",
    "\n",
    "from typing_extensions import TypedDict\n",
    "\n",
    "from langgraph.graph import StateGraph\n",
    "from langgraph.graph.message import add_messages"
   ]
  },
  {
   "cell_type": "code",
   "execution_count": 2,
   "metadata": {},
   "outputs": [],
   "source": [
    "class State(TypedDict):\n",
    "    # Messages have the type \"list\". The `add_messages` function\n",
    "    # in the annotation defines how this state key should be updated\n",
    "    # (in this case, it appends messages to the list, rather than overwriting them)\n",
    "    messages: Annotated[list, add_messages]\n",
    "\n",
    "\n",
    "graph_builder = StateGraph(State)"
   ]
  },
  {
   "cell_type": "code",
   "execution_count": 7,
   "metadata": {},
   "outputs": [
    {
     "data": {
      "text/plain": [
       "['__class__',\n",
       " '__delattr__',\n",
       " '__dict__',\n",
       " '__dir__',\n",
       " '__doc__',\n",
       " '__eq__',\n",
       " '__format__',\n",
       " '__ge__',\n",
       " '__getattribute__',\n",
       " '__gt__',\n",
       " '__hash__',\n",
       " '__init__',\n",
       " '__init_subclass__',\n",
       " '__le__',\n",
       " '__lt__',\n",
       " '__module__',\n",
       " '__ne__',\n",
       " '__new__',\n",
       " '__reduce__',\n",
       " '__reduce_ex__',\n",
       " '__repr__',\n",
       " '__setattr__',\n",
       " '__sizeof__',\n",
       " '__str__',\n",
       " '__subclasshook__',\n",
       " '__weakref__',\n",
       " '_all_edges',\n",
       " 'add_conditional_edges',\n",
       " 'add_edge',\n",
       " 'add_node',\n",
       " 'branches',\n",
       " 'channels',\n",
       " 'compile',\n",
       " 'compiled',\n",
       " 'config_schema',\n",
       " 'edges',\n",
       " 'managed',\n",
       " 'nodes',\n",
       " 'schema',\n",
       " 'set_conditional_entry_point',\n",
       " 'set_entry_point',\n",
       " 'set_finish_point',\n",
       " 'support_multiple_edges',\n",
       " 'validate',\n",
       " 'waiting_edges']"
      ]
     },
     "execution_count": 7,
     "metadata": {},
     "output_type": "execute_result"
    }
   ],
   "source": [
    "dir(graph_builder)"
   ]
  },
  {
   "cell_type": "code",
   "execution_count": 8,
   "metadata": {},
   "outputs": [],
   "source": [
    "# Next, add a \"chatbot\" node. Nodes represent units of work. \n",
    "# They are typically regular python functions.\n",
    "\n",
    "def chatbot(state: State):\n",
    "    return {\"messages\": [llm.invoke(state[\"messages\"])]}\n",
    "\n",
    "\n",
    "# The first argument is the unique node name\n",
    "# The second argument is the function or object that will be called whenever\n",
    "# the node is used.\n",
    "graph_builder.add_node(\"chatbot\", chatbot)"
   ]
  },
  {
   "cell_type": "code",
   "execution_count": 9,
   "metadata": {},
   "outputs": [],
   "source": [
    "# Next, add an entry point. This tells our graph where to start its work each time we run it.\n",
    "\n",
    "graph_builder.set_entry_point(\"chatbot\")"
   ]
  },
  {
   "cell_type": "code",
   "execution_count": 10,
   "metadata": {},
   "outputs": [],
   "source": [
    "# Set a finish point. This instructs the graph \"any time this node is run, you can exit.\"\n",
    "\n",
    "graph_builder.set_finish_point(\"chatbot\")"
   ]
  },
  {
   "cell_type": "code",
   "execution_count": 11,
   "metadata": {},
   "outputs": [],
   "source": [
    "# Finally, we'll want to be able to run our graph. To do so, call \"compile()\" on the graph builder. This creates a \"CompiledGraph\" we can use invoke on our state.\n",
    "\n",
    "graph = graph_builder.compile()"
   ]
  },
  {
   "cell_type": "code",
   "execution_count": 12,
   "metadata": {},
   "outputs": [
    {
     "data": {
      "text/plain": [
       "['Config',\n",
       " 'InputType',\n",
       " 'OutputType',\n",
       " '__abstractmethods__',\n",
       " '__annotations__',\n",
       " '__class__',\n",
       " '__class_getitem__',\n",
       " '__class_vars__',\n",
       " '__config__',\n",
       " '__custom_root_type__',\n",
       " '__delattr__',\n",
       " '__dict__',\n",
       " '__dir__',\n",
       " '__doc__',\n",
       " '__eq__',\n",
       " '__exclude_fields__',\n",
       " '__fields__',\n",
       " '__fields_set__',\n",
       " '__format__',\n",
       " '__ge__',\n",
       " '__get_validators__',\n",
       " '__getattribute__',\n",
       " '__getstate__',\n",
       " '__gt__',\n",
       " '__hash__',\n",
       " '__include_fields__',\n",
       " '__init__',\n",
       " '__init_subclass__',\n",
       " '__iter__',\n",
       " '__json_encoder__',\n",
       " '__le__',\n",
       " '__lt__',\n",
       " '__module__',\n",
       " '__ne__',\n",
       " '__new__',\n",
       " '__or__',\n",
       " '__orig_bases__',\n",
       " '__parameters__',\n",
       " '__post_root_validators__',\n",
       " '__pre_root_validators__',\n",
       " '__pretty__',\n",
       " '__private_attributes__',\n",
       " '__reduce__',\n",
       " '__reduce_ex__',\n",
       " '__repr__',\n",
       " '__repr_args__',\n",
       " '__repr_name__',\n",
       " '__repr_str__',\n",
       " '__rich_repr__',\n",
       " '__ror__',\n",
       " '__schema_cache__',\n",
       " '__setattr__',\n",
       " '__setstate__',\n",
       " '__signature__',\n",
       " '__sizeof__',\n",
       " '__slots__',\n",
       " '__str__',\n",
       " '__subclasshook__',\n",
       " '__try_update_forward_refs__',\n",
       " '__validators__',\n",
       " '__weakref__',\n",
       " '_abatch_with_config',\n",
       " '_abc_impl',\n",
       " '_acall_with_config',\n",
       " '_atransform_stream_with_config',\n",
       " '_batch_with_config',\n",
       " '_calculate_keys',\n",
       " '_call_with_config',\n",
       " '_copy_and_set_values',\n",
       " '_decompose_class',\n",
       " '_defaults',\n",
       " '_enforce_dict_if_root',\n",
       " '_get_value',\n",
       " '_init_private_attributes',\n",
       " '_is_protocol',\n",
       " '_iter',\n",
       " '_transform_stream_with_config',\n",
       " 'abatch',\n",
       " 'abatch_as_completed',\n",
       " 'aget_state',\n",
       " 'aget_state_history',\n",
       " 'ainvoke',\n",
       " 'assign',\n",
       " 'astream',\n",
       " 'astream_events',\n",
       " 'astream_log',\n",
       " 'atransform',\n",
       " 'attach_branch',\n",
       " 'attach_edge',\n",
       " 'attach_node',\n",
       " 'aupdate_state',\n",
       " 'auto_validate',\n",
       " 'batch',\n",
       " 'batch_as_completed',\n",
       " 'bind',\n",
       " 'builder',\n",
       " 'channels',\n",
       " 'checkpointer',\n",
       " 'config_schema',\n",
       " 'config_specs',\n",
       " 'config_type',\n",
       " 'configurable_alternatives',\n",
       " 'configurable_fields',\n",
       " 'construct',\n",
       " 'copy',\n",
       " 'debug',\n",
       " 'dict',\n",
       " 'from_orm',\n",
       " 'get_graph',\n",
       " 'get_input_schema',\n",
       " 'get_lc_namespace',\n",
       " 'get_name',\n",
       " 'get_output_schema',\n",
       " 'get_prompts',\n",
       " 'get_state',\n",
       " 'get_state_history',\n",
       " 'input_channels',\n",
       " 'input_schema',\n",
       " 'interrupt_after_nodes',\n",
       " 'interrupt_before_nodes',\n",
       " 'invoke',\n",
       " 'is_lc_serializable',\n",
       " 'json',\n",
       " 'lc_attributes',\n",
       " 'lc_id',\n",
       " 'lc_secrets',\n",
       " 'managed_values_dict',\n",
       " 'map',\n",
       " 'name',\n",
       " 'nodes',\n",
       " 'output_channels',\n",
       " 'output_schema',\n",
       " 'parse_file',\n",
       " 'parse_obj',\n",
       " 'parse_raw',\n",
       " 'pick',\n",
       " 'pipe',\n",
       " 'retry_policy',\n",
       " 'schema',\n",
       " 'schema_json',\n",
       " 'step_timeout',\n",
       " 'stream',\n",
       " 'stream_channels',\n",
       " 'stream_channels_asis',\n",
       " 'stream_channels_list',\n",
       " 'stream_mode',\n",
       " 'to_json',\n",
       " 'to_json_not_implemented',\n",
       " 'transform',\n",
       " 'update_forward_refs',\n",
       " 'update_state',\n",
       " 'validate',\n",
       " 'validate_on_init',\n",
       " 'with_alisteners',\n",
       " 'with_config',\n",
       " 'with_fallbacks',\n",
       " 'with_listeners',\n",
       " 'with_retry',\n",
       " 'with_types']"
      ]
     },
     "execution_count": 12,
     "metadata": {},
     "output_type": "execute_result"
    }
   ],
   "source": [
    "dir(graph)"
   ]
  },
  {
   "cell_type": "code",
   "execution_count": 13,
   "metadata": {},
   "outputs": [
    {
     "data": {
      "image/jpeg": "[encoded data removed]",
      "text/plain": [
       "<IPython.core.display.Image object>"
      ]
     },
     "metadata": {},
     "output_type": "display_data"
    }
   ],
   "source": [
    "from IPython.display import Image, display\n",
    "\n",
    "try:\n",
    "    display(Image(graph.get_graph().draw_mermaid_png()))\n",
    "except:\n",
    "    # This requires some extra dependencies and is optional\n",
    "    pass"
   ]
  },
  {
   "cell_type": "code",
   "execution_count": 10,
   "metadata": {},
   "outputs": [
    {
     "name": "stdout",
     "output_type": "stream",
     "text": [
      "Assistant: Nice to meet you, Vinay! I'm here to help with any questions or topics you'd like to discuss. What's on your mind?\n",
      "Assistant: Yes, I'm a large language model, I don't have personal memories like humans do, but I can recall our previous conversations. Unfortunately, this is the start of our interaction, so I haven't had the chance to learn your name yet.\n",
      "Goodbye!\n"
     ]
    }
   ],
   "source": [
    "# Now let's run the chatbot!\n",
    "# Tip: You can exit the chat loop at any time by typing \"quit\", \"exit\", or \"q\".\n",
    "\n",
    "while True:\n",
    "    user_input = input(\"User: \")\n",
    "    if user_input.lower() in [\"quit\", \"exit\", \"q\"]:\n",
    "        print(\"Goodbye!\")\n",
    "        break\n",
    "    for event in graph.stream({\"messages\": (\"user\", user_input)}):\n",
    "        # print(event)\n",
    "        for value in event.values():\n",
    "            print(\"Assistant:\", value[\"messages\"][-1].content)"
   ]
  },
  {
   "cell_type": "code",
   "execution_count": null,
   "metadata": {},
   "outputs": [],
   "source": []
  },
  {
   "cell_type": "markdown",
   "metadata": {},
   "source": [
    "## Part 2. Enhancing the Chatbot with Tools\n",
    "### i) With Raw Implementation"
   ]
  },
  {
   "cell_type": "code",
   "execution_count": 3,
   "metadata": {},
   "outputs": [],
   "source": [
    "from langchain_core.tools import tool\n",
    "# from langgraph.prebuilt import ToolNode\n",
    "# from langchain_core.messages import ToolMessage\n",
    "from langchain_core.runnables import RunnableLambda\n",
    "from langchain_community.tools.tavily_search import TavilySearchResults\n",
    "from langchain_core.output_parsers import JsonOutputParser, StrOutputParser\n",
    "from langchain_core.prompts import PromptTemplate\n",
    "\n",
    "os.environ[\"TAVILY_API_KEY\"] = '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'"
   ]
  },
  {
   "cell_type": "code",
   "execution_count": 4,
   "metadata": {},
   "outputs": [],
   "source": [
    "# @tool\n",
    "# def websearch(input : str) -> str:\n",
    "#     \"\"\"Runs web search\"\"\"\n",
    "#     tool = TavilySearchResults(max_results=2)\n",
    "#     docs = tool.invoke({\"query\":input})\n",
    "#     return docs\n"
   ]
  },
  {
   "cell_type": "code",
   "execution_count": 5,
   "metadata": {},
   "outputs": [],
   "source": [
    "# response = websearch.invoke(\"What is the weather in New Delhi now?\")\n",
    "# response"
   ]
  },
  {
   "cell_type": "code",
   "execution_count": 6,
   "metadata": {},
   "outputs": [],
   "source": [
    "# from langchain_core.tools import tool\n",
    "\n",
    "# @tool\n",
    "# def magic_function(x:float, y:float) -> float:\n",
    "#     \"Given two float numbers x and y in arguments, it returns the multiplication of x and y\"\n",
    "#     return (x*y)\n",
    "\n",
    "# magic_function.invoke({\"x\":2.3, \"y\":3})"
   ]
  },
  {
   "cell_type": "code",
   "execution_count": 7,
   "metadata": {},
   "outputs": [],
   "source": [
    "# def handle_tool_error(state) -> dict:\n",
    "#     error = state.get(\"error\")\n",
    "#     tool_calls = state[\"messages\"][-1].tool_calls\n",
    "#     return {\n",
    "#         \"messages\": [\n",
    "#             ToolMessage(\n",
    "#                 content=f\"Error: {repr(error)}\\n please fix your mistakes.\",\n",
    "#                 tool_call_id=tc[\"id\"],\n",
    "#             )\n",
    "#             for tc in tool_calls\n",
    "#         ]\n",
    "#     }\n",
    "\n",
    "\n",
    "# def create_tool_node_with_fallback(tools: list) -> dict:\n",
    "#     return ToolNode(tools).with_fallbacks(\n",
    "#         [RunnableLambda(handle_tool_error)], exception_key=\"error\"\n",
    "#     )\n",
    "\n",
    "\n",
    "\n",
    "# tools = [magic_function, websearch]"
   ]
  },
  {
   "cell_type": "code",
   "execution_count": 2,
   "metadata": {},
   "outputs": [],
   "source": [
    "from typing import List, Annotated\n",
    "from typing_extensions import TypedDict\n",
    "\n",
    "from langgraph.graph import StateGraph\n",
    "from langgraph.graph.message import add_messages\n",
    "from langchain_core.messages import HumanMessage, AIMessage\n",
    "\n",
    "\n",
    "class State(TypedDict):\n",
    "    messages : Annotated[List, add_messages]\n",
    "    question: str\n",
    "    datasource : str\n",
    "    websearch_docs : List[str]\n",
    "    magic_answer : float\n",
    "    answer : str\n",
    "\n",
    "graph_builder = StateGraph(State)"
   ]
  },
  {
   "cell_type": "code",
   "execution_count": 9,
   "metadata": {},
   "outputs": [],
   "source": [
    "def decisioner(state: State):\n",
    "\n",
    "    print(\"----\"*20, 'Decisioner', \"----\"*20)\n",
    "    print(state)\n",
    "    print(\"----\"*50)\n",
    "\n",
    "    question = state[\"question\"]\n",
    "    messages = state[\"messages\"]\n",
    "\n",
    "    prompt = PromptTemplate(\n",
    "        template=\"\"\"<|begin_of_text|><|start_header_id|>system<|end_header_id|> You are a helpful chat assistant who is good in conversation.\n",
    "            Apart from your own knowledge base, you also have access to follow two tools: \n",
    "            1) websearch - Runs web search\n",
    "            2) magic_function - It requires two float numbers x and y in arguments\n",
    "            Respond to the user question honestly. Generate the answer if you can answer the user question based on your knowledge, \n",
    "            otherwise take help from the above tools to respond.\n",
    "            Format of your response should be in json with 2 keys - 'datasource' and 'answer'\n",
    "            If you are sure about the answer, 'datasource' should be '__end__' and final answer should be provided in 'answer' key\n",
    "            If you need to use the tool to respond to user question, 'datasource' value should be either 'websearch' or 'magic_function'.\n",
    "            Value of 'answer' key should be blank string for 'websearch',  and Value of 'answer' key should be list of float numbers for 'magic_function'.\n",
    "            For example, user question - What is magic_function(2,3)?, value of answer key - [2,3]\n",
    "            Do not include any pre-amble before your response\n",
    "\n",
    "            Additionally, here is the chat history between user and you (assistant) till now for your reference:\n",
    "\n",
    "            {chat_history}\n",
    "\n",
    "            <|eot_id|>\n",
    "            <|start_header_id|>user<|end_header_id|>\n",
    "            Question: {question}\n",
    "\n",
    "            Answer: <|eot_id|><|start_header_id|>assistant<|end_header_id|>\n",
    "            \"\"\",\n",
    "        input_variables=[\"question\", \"chat_history\"],\n",
    "    )\n",
    "\n",
    "    decision_chain = prompt | llm | JsonOutputParser()\n",
    "\n",
    "    result = {}\n",
    "\n",
    "    i = 1\n",
    "    while True:\n",
    "        print(i)\n",
    "        response = decision_chain.invoke({'question':question, \"chat_history\":messages})\n",
    "\n",
    "        datasource = response.get('datasource', '')\n",
    "\n",
    "        if datasource in ['websearch', 'magic_function']:\n",
    "            result = {**response,\n",
    "                      'messages':[HumanMessage(content=question)]}\n",
    "            break\n",
    "        elif datasource == '__end__':\n",
    "            result = {**response,\n",
    "                      'messages':[HumanMessage(content=question),\n",
    "                                  AIMessage(response['answer'])]}\n",
    "            break\n",
    "\n",
    "        i+=1\n",
    "        if i>=5:\n",
    "            raise Exception(\"Over reached\")\n",
    "    \n",
    "    return result"
   ]
  },
  {
   "cell_type": "code",
   "execution_count": 10,
   "metadata": {},
   "outputs": [],
   "source": [
    "# prompt = PromptTemplate(\n",
    "#     template=\"\"\"<|begin_of_text|><|start_header_id|>system<|end_header_id|> You are a helpful assistant.\n",
    "#     You have two tools at your disposal : \n",
    "#     1) websearch - Runs web search\n",
    "#     2) magic_function - It requires two float numbers x and y in arguments\n",
    "#     Answer the user question honestly. Generate the answer if you know the answer, otherwise delegate the task to the tools.\n",
    "#     Format of your response should be in json with 2 keys - 'datasource' and 'answer'\n",
    "#     If you are sure about the answer, 'datasource' should be '__end__' and final answer should be provided in 'answer' key\n",
    "#     If you need to use the tool to respond to user question, 'datasource' value should be either 'websearch' or 'magic_function'.\n",
    "#     Value of 'answer' key should be blank string for 'websearch',  and Value of 'answer' key should be list of float numbers for 'magic_function'.\n",
    "#     For example, user question - What is magic_function(2,3)?, value of answer key - [2,3]\n",
    "#     Do not include any pre-amble before your response\n",
    "#     <|eot_id|><|start_header_id|>user<|end_header_id|>\n",
    "#     Question: {question}\n",
    "\n",
    "#     Answer: <|eot_id|><|start_header_id|>assistant<|end_header_id|>\n",
    "#     \"\"\",\n",
    "#     input_variables=[\"question\"],\n",
    "#     )\n",
    "\n",
    "# decision_chain = prompt | llm | JsonOutputParser()\n",
    "\n",
    "\n",
    "# # decision_chain.invoke({\"question\":\"What is Capital of Nepal\"})\n",
    "# # decision_chain.invoke({\"question\":\"What is weather in New Delhi right now\"})\n",
    "# decision_chain.invoke({\"question\":\"What is magic_function(4,5)\"})"
   ]
  },
  {
   "cell_type": "code",
   "execution_count": 11,
   "metadata": {},
   "outputs": [],
   "source": [
    "from langchain_core.documents import Document\n",
    "\n",
    "web_search_tool = TavilySearchResults(max_results=2)\n",
    "\n",
    "def websearch(state: State):\n",
    "    \"\"\"\n",
    "    Web search based based on the question\n",
    "\n",
    "    Args:\n",
    "        state (dict): The current graph state\n",
    "\n",
    "    Returns:\n",
    "        state (dict): Web results to websearch_docs\n",
    "    \"\"\"\n",
    "\n",
    "\n",
    "    print(\"----\"*20, 'Websearch', \"----\"*20)\n",
    "    print(state)\n",
    "    print(\"----\"*50)\n",
    "\n",
    "    question = state[\"question\"]\n",
    "\n",
    "    # Web search\n",
    "    docs = web_search_tool.invoke({\"query\": question})\n",
    "    web_results = \"\\n\".join([d[\"content\"] for d in docs])\n",
    "    web_results = Document(page_content=web_results)\n",
    "    return {\"websearch_docs\": [web_results], \"question\": question}\n",
    "    "
   ]
  },
  {
   "cell_type": "code",
   "execution_count": 12,
   "metadata": {},
   "outputs": [],
   "source": [
    "@tool\n",
    "def magic_function_tool(x:float, y:float) -> float:\n",
    "    \"Given two float numbers x and y in arguments, it returns the multiplication of x and y\"\n",
    "    return (x*y)\n",
    "\n",
    "def magic_function(state: State):\n",
    "    \"\"\"\n",
    "    Given two float numbers x and y in arguments, it returns the multiplication of x and y\n",
    "\n",
    "\n",
    "    Args:\n",
    "        state (dict): The current graph state\n",
    "\n",
    "    Returns:\n",
    "        state (dict): Magic function result\n",
    "    \"\"\"\n",
    "\n",
    "\n",
    "    print(\"----\"*20, 'Magic Function', \"----\"*20)\n",
    "    print(state)\n",
    "    print(\"----\"*50)\n",
    "\n",
    "    args = state[\"answer\"]\n",
    "\n",
    "    if len(args)!=2:\n",
    "        raise Exception(f\"Magic function received incorrect arguments: {args}\")\n",
    "\n",
    "    result = magic_function_tool.invoke({'x':args[0], 'y':args[1]})\n",
    "\n",
    "    return {\"magic_answer\": result}"
   ]
  },
  {
   "cell_type": "code",
   "execution_count": 13,
   "metadata": {},
   "outputs": [],
   "source": [
    "\n",
    "def generate(state: State):\n",
    "    \"\"\"\n",
    "    Generate the final answer if question is routed through Web search or Magic function\n",
    "\n",
    "    Args:\n",
    "        state (dict): The current graph state\n",
    "\n",
    "    Returns:\n",
    "        state (dict): Returns the final anwer in key 'answer'\n",
    "    \"\"\"\n",
    "    \n",
    "    print(\"----\"*20, 'Final Generate', \"----\"*20)\n",
    "    print(state)\n",
    "    print(\"----\"*50)\n",
    "\n",
    "    question = state[\"question\"]\n",
    "    if state['datasource'] == 'websearch':\n",
    "        context = state['websearch_docs']\n",
    "    else:\n",
    "        context = f\"The magic function result is {state['magic_answer']}\"\n",
    "\n",
    "    prompt = PromptTemplate(\n",
    "        template=\"\"\"<|begin_of_text|><|start_header_id|>system<|end_header_id|> You are an assistant for question-answering tasks. \n",
    "            Use the following pieces of retrieved context to answer the question. If you don't know the answer, just say that you don't know. \n",
    "            Use three sentences maximum and keep the answer concise <|eot_id|><|start_header_id|>user<|end_header_id|>\n",
    "            Question: {question} \n",
    "            Context: {context} \n",
    "            Answer: <|eot_id|><|start_header_id|>assistant<|end_header_id|>\n",
    "            \"\"\",\n",
    "        input_variables=[\"question\", \"context\"],\n",
    "    )\n",
    "\n",
    "    chain = prompt | llm | StrOutputParser()\n",
    "    generation = chain.invoke({'question':question, 'context':context})\n",
    "\n",
    "    result = {'messages':[AIMessage(generation)], \"answer\": generation}\n",
    "    \n",
    "\n",
    "    return result"
   ]
  },
  {
   "cell_type": "code",
   "execution_count": 14,
   "metadata": {},
   "outputs": [],
   "source": [
    "### Conditional edge\n",
    "\n",
    "def route_question(state: State):\n",
    "    \"\"\"\n",
    "    Route question to web search, Magic function or End node.\n",
    "\n",
    "    Args:\n",
    "        state (dict): The current graph state\n",
    "\n",
    "    Returns:\n",
    "        str: Next node to call\n",
    "    \"\"\"\n",
    "\n",
    "    print(\"----\"*20, f'Routing Question', \"----\"*20)\n",
    "    print(state)\n",
    "    print(\"----\"*50)\n",
    "\n",
    "\n",
    "    datasource = state['datasource']\n",
    "\n",
    "\n",
    "    return datasource"
   ]
  },
  {
   "cell_type": "code",
   "execution_count": 15,
   "metadata": {},
   "outputs": [],
   "source": [
    "# Build Graph\n",
    "\n",
    "## Add Nodes\n",
    "graph_builder.add_node(\"decisioner\", decisioner)\n",
    "graph_builder.add_node(\"websearch\", websearch)\n",
    "graph_builder.add_node(\"magic_function\", magic_function)\n",
    "graph_builder.add_node(\"generate\", generate)"
   ]
  },
  {
   "cell_type": "code",
   "execution_count": 16,
   "metadata": {},
   "outputs": [],
   "source": [
    "## Add Edges\n",
    "graph_builder.add_conditional_edges(\n",
    "    \"decisioner\",\n",
    "    route_question,\n",
    "    {\n",
    "        \"websearch\": \"websearch\",\n",
    "        \"magic_function\": \"magic_function\",\n",
    "        \"__end__\": \"__end__\"\n",
    "    },\n",
    ")\n",
    "\n",
    "graph_builder.add_edge(\"websearch\", \"generate\")\n",
    "graph_builder.add_edge(\"magic_function\", \"generate\")\n",
    "graph_builder.add_edge(\"generate\", \"__end__\")\n",
    "\n",
    "\n",
    "graph_builder.set_entry_point(\"decisioner\")\n"
   ]
  },
  {
   "cell_type": "code",
   "execution_count": 17,
   "metadata": {},
   "outputs": [],
   "source": [
    "\n",
    "from langgraph.checkpoint.sqlite import SqliteSaver\n",
    "\n",
    "# Persist chat with thread id\n",
    "memory = SqliteSaver.from_conn_string(\":memory:\")\n",
    "\n",
    "graph = graph_builder.compile(checkpointer=memory)"
   ]
  },
  {
   "cell_type": "code",
   "execution_count": 18,
   "metadata": {},
   "outputs": [
    {
     "data": {
      "image/jpeg": "[encoded data removed]",
      "text/plain": [
       "<IPython.core.display.Image object>"
      ]
     },
     "metadata": {},
     "output_type": "display_data"
    }
   ],
   "source": [
    "from IPython.display import Image, display\n",
    "\n",
    "try:\n",
    "    display(Image(graph.get_graph().draw_mermaid_png()))\n",
    "except:\n",
    "    # This requires some extra dependencies and is optional\n",
    "    pass"
   ]
  },
  {
   "cell_type": "code",
   "execution_count": 19,
   "metadata": {},
   "outputs": [
    {
     "name": "stdout",
     "output_type": "stream",
     "text": [
      "-------------------------------------------------------------------------------- Decisioner --------------------------------------------------------------------------------\n",
      "{'messages': None, 'question': 'Hi, my name is Vinay?', 'datasource': None, 'websearch_docs': None, 'magic_answer': None, 'answer': None}\n",
      "--------------------------------------------------------------------------------------------------------------------------------------------------------------------------------------------------------\n",
      "1\n",
      "-------------------------------------------------------------------------------- Routing Question --------------------------------------------------------------------------------\n",
      "{'messages': [HumanMessage(content='Hi, my name is Vinay?'), AIMessage(content=\"Nice to meet you, Vinay! I'm happy to chat with you. What's on your mind?\")], 'question': 'Hi, my name is Vinay?', 'datasource': '__end__', 'answer': \"Nice to meet you, Vinay! I'm happy to chat with you. What's on your mind?\"}\n",
      "--------------------------------------------------------------------------------------------------------------------------------------------------------------------------------------------------------\n",
      "\n",
      "\n",
      "\n",
      "Nice to meet you, Vinay! I'm happy to chat with you. What's on your mind?\n"
     ]
    }
   ],
   "source": [
    "from pprint import pprint\n",
    "\n",
    "config = {\"configurable\": {\"thread_id\": \"sess5\"}}\n",
    "\n",
    "inputs = {\"question\": \"Hi, my name is Vinay?\"}\n",
    "for output in graph.stream(inputs, config=config):\n",
    "    for key, value in output.items():\n",
    "        # pprint(f\"Finished running: {key}:\")\n",
    "        pass\n",
    "\n",
    "print('\\n'*2)\n",
    "print(value[\"answer\"])"
   ]
  },
  {
   "cell_type": "code",
   "execution_count": 20,
   "metadata": {},
   "outputs": [
    {
     "name": "stdout",
     "output_type": "stream",
     "text": [
      "-------------------------------------------------------------------------------- Decisioner --------------------------------------------------------------------------------\n",
      "{'messages': [HumanMessage(content='Hi, my name is Vinay?'), AIMessage(content=\"Nice to meet you, Vinay! I'm happy to chat with you. What's on your mind?\")], 'question': 'Remember my Name?', 'datasource': '__end__', 'websearch_docs': None, 'magic_answer': None, 'answer': \"Nice to meet you, Vinay! I'm happy to chat with you. What's on your mind?\"}\n",
      "--------------------------------------------------------------------------------------------------------------------------------------------------------------------------------------------------------\n",
      "1\n",
      "-------------------------------------------------------------------------------- Routing Question --------------------------------------------------------------------------------\n",
      "{'messages': [HumanMessage(content='Hi, my name is Vinay?', id='a2385c48-638d-4fba-a4be-abc669ecfad3'), AIMessage(content=\"Nice to meet you, Vinay! I'm happy to chat with you. What's on your mind?\", id='1cd22ac0-f4e1-4f29-86f9-bbd242152a4e'), HumanMessage(content='Remember my Name?', id='10e96675-5be1-423a-89b3-4967bd498539'), AIMessage(content='Vinay', id='3ff10321-a7e7-45fe-b07c-82db8c3fcd0e')], 'question': 'Remember my Name?', 'datasource': '__end__', 'answer': 'Vinay'}\n",
      "--------------------------------------------------------------------------------------------------------------------------------------------------------------------------------------------------------\n",
      "\n",
      "\n",
      "\n",
      "Vinay\n"
     ]
    }
   ],
   "source": [
    "config = {\"configurable\": {\"thread_id\": \"sess5\"}}\n",
    "\n",
    "inputs = {\"question\": \"Remember my Name?\"}\n",
    "for output in graph.stream(inputs, config=config):\n",
    "    for key, value in output.items():\n",
    "        # pprint(f\"Finished running: {key}:\")\n",
    "        pass\n",
    "\n",
    "print('\\n'*2)\n",
    "print(value[\"answer\"])"
   ]
  },
  {
   "cell_type": "code",
   "execution_count": 21,
   "metadata": {},
   "outputs": [
    {
     "name": "stdout",
     "output_type": "stream",
     "text": [
      "-------------------------------------------------------------------------------- Decisioner --------------------------------------------------------------------------------\n",
      "{'messages': [HumanMessage(content='Hi, my name is Vinay?', id='a2385c48-638d-4fba-a4be-abc669ecfad3'), AIMessage(content=\"Nice to meet you, Vinay! I'm happy to chat with you. What's on your mind?\", id='1cd22ac0-f4e1-4f29-86f9-bbd242152a4e'), HumanMessage(content='Remember my Name?', id='10e96675-5be1-423a-89b3-4967bd498539'), AIMessage(content='Vinay', id='3ff10321-a7e7-45fe-b07c-82db8c3fcd0e')], 'question': 'What was my previous question?', 'datasource': '__end__', 'websearch_docs': None, 'magic_answer': None, 'answer': 'Vinay'}\n",
      "--------------------------------------------------------------------------------------------------------------------------------------------------------------------------------------------------------\n",
      "1\n",
      "-------------------------------------------------------------------------------- Routing Question --------------------------------------------------------------------------------\n",
      "{'messages': [HumanMessage(content='Hi, my name is Vinay?', id='a2385c48-638d-4fba-a4be-abc669ecfad3'), AIMessage(content=\"Nice to meet you, Vinay! I'm happy to chat with you. What's on your mind?\", id='1cd22ac0-f4e1-4f29-86f9-bbd242152a4e'), HumanMessage(content='Remember my Name?', id='10e96675-5be1-423a-89b3-4967bd498539'), AIMessage(content='Vinay', id='3ff10321-a7e7-45fe-b07c-82db8c3fcd0e'), HumanMessage(content='What was my previous question?', id='ed48cd63-ba29-410d-9d1a-c254f726fa87'), AIMessage(content='Remember my Name?', id='bc394656-795e-4a0c-ba1d-8e2901ad20bf')], 'question': 'What was my previous question?', 'datasource': '__end__', 'answer': 'Remember my Name?'}\n",
      "--------------------------------------------------------------------------------------------------------------------------------------------------------------------------------------------------------\n",
      "\n",
      "\n",
      "\n",
      "Remember my Name?\n"
     ]
    }
   ],
   "source": [
    "config = {\"configurable\": {\"thread_id\": \"sess5\"}}\n",
    "\n",
    "inputs = {\"question\": \"What was my previous question?\"}\n",
    "for output in graph.stream(inputs, config=config):\n",
    "    for key, value in output.items():\n",
    "        # pprint(f\"Finished running: {key}:\")\n",
    "        pass\n",
    "\n",
    "print('\\n'*2)\n",
    "print(value[\"answer\"])"
   ]
  },
  {
   "cell_type": "code",
   "execution_count": 22,
   "metadata": {},
   "outputs": [
    {
     "name": "stdout",
     "output_type": "stream",
     "text": [
      "-------------------------------------------------------------------------------- Decisioner --------------------------------------------------------------------------------\n",
      "{'messages': [HumanMessage(content='Hi, my name is Vinay?', id='a2385c48-638d-4fba-a4be-abc669ecfad3'), AIMessage(content=\"Nice to meet you, Vinay! I'm happy to chat with you. What's on your mind?\", id='1cd22ac0-f4e1-4f29-86f9-bbd242152a4e'), HumanMessage(content='Remember my Name?', id='10e96675-5be1-423a-89b3-4967bd498539'), AIMessage(content='Vinay', id='3ff10321-a7e7-45fe-b07c-82db8c3fcd0e'), HumanMessage(content='What was my previous question?', id='ed48cd63-ba29-410d-9d1a-c254f726fa87'), AIMessage(content='Remember my Name?', id='bc394656-795e-4a0c-ba1d-8e2901ad20bf')], 'question': 'What is magic_function(5,7) ?', 'datasource': '__end__', 'websearch_docs': None, 'magic_answer': None, 'answer': 'Remember my Name?'}\n",
      "--------------------------------------------------------------------------------------------------------------------------------------------------------------------------------------------------------\n",
      "1\n",
      "-------------------------------------------------------------------------------- Routing Question --------------------------------------------------------------------------------\n",
      "{'messages': [HumanMessage(content='Hi, my name is Vinay?', id='a2385c48-638d-4fba-a4be-abc669ecfad3'), AIMessage(content=\"Nice to meet you, Vinay! I'm happy to chat with you. What's on your mind?\", id='1cd22ac0-f4e1-4f29-86f9-bbd242152a4e'), HumanMessage(content='Remember my Name?', id='10e96675-5be1-423a-89b3-4967bd498539'), AIMessage(content='Vinay', id='3ff10321-a7e7-45fe-b07c-82db8c3fcd0e'), HumanMessage(content='What was my previous question?', id='ed48cd63-ba29-410d-9d1a-c254f726fa87'), AIMessage(content='Remember my Name?', id='bc394656-795e-4a0c-ba1d-8e2901ad20bf'), HumanMessage(content='What is magic_function(5,7) ?', id='0ebfe345-8156-4233-ac57-ee1eda732f41')], 'question': 'What is magic_function(5,7) ?', 'datasource': 'magic_function', 'answer': [5, 7]}\n",
      "--------------------------------------------------------------------------------------------------------------------------------------------------------------------------------------------------------\n",
      "-------------------------------------------------------------------------------- Magic Function --------------------------------------------------------------------------------\n",
      "{'messages': [HumanMessage(content='Hi, my name is Vinay?', id='a2385c48-638d-4fba-a4be-abc669ecfad3'), AIMessage(content=\"Nice to meet you, Vinay! I'm happy to chat with you. What's on your mind?\", id='1cd22ac0-f4e1-4f29-86f9-bbd242152a4e'), HumanMessage(content='Remember my Name?', id='10e96675-5be1-423a-89b3-4967bd498539'), AIMessage(content='Vinay', id='3ff10321-a7e7-45fe-b07c-82db8c3fcd0e'), HumanMessage(content='What was my previous question?', id='ed48cd63-ba29-410d-9d1a-c254f726fa87'), AIMessage(content='Remember my Name?', id='bc394656-795e-4a0c-ba1d-8e2901ad20bf'), HumanMessage(content='What is magic_function(5,7) ?', id='0ebfe345-8156-4233-ac57-ee1eda732f41')], 'question': 'What is magic_function(5,7) ?', 'datasource': 'magic_function', 'websearch_docs': None, 'magic_answer': None, 'answer': [5, 7]}\n",
      "--------------------------------------------------------------------------------------------------------------------------------------------------------------------------------------------------------\n",
      "-------------------------------------------------------------------------------- Final Generate --------------------------------------------------------------------------------\n",
      "{'messages': [HumanMessage(content='Hi, my name is Vinay?', id='a2385c48-638d-4fba-a4be-abc669ecfad3'), AIMessage(content=\"Nice to meet you, Vinay! I'm happy to chat with you. What's on your mind?\", id='1cd22ac0-f4e1-4f29-86f9-bbd242152a4e'), HumanMessage(content='Remember my Name?', id='10e96675-5be1-423a-89b3-4967bd498539'), AIMessage(content='Vinay', id='3ff10321-a7e7-45fe-b07c-82db8c3fcd0e'), HumanMessage(content='What was my previous question?', id='ed48cd63-ba29-410d-9d1a-c254f726fa87'), AIMessage(content='Remember my Name?', id='bc394656-795e-4a0c-ba1d-8e2901ad20bf'), HumanMessage(content='What is magic_function(5,7) ?', id='0ebfe345-8156-4233-ac57-ee1eda732f41')], 'question': 'What is magic_function(5,7) ?', 'datasource': 'magic_function', 'websearch_docs': None, 'magic_answer': 35.0, 'answer': [5, 7]}\n",
      "--------------------------------------------------------------------------------------------------------------------------------------------------------------------------------------------------------\n",
      "\n",
      "\n",
      "\n",
      "I don't know.\n"
     ]
    }
   ],
   "source": [
    "config = {\"configurable\": {\"thread_id\": \"sess5\"}}\n",
    "\n",
    "inputs = {\"question\": \"What is magic_function(5,7) ?\"}\n",
    "for output in graph.stream(inputs, config=config):\n",
    "    for key, value in output.items():\n",
    "        # pprint(f\"Finished running: {key}:\")\n",
    "        pass\n",
    "\n",
    "print('\\n'*2)\n",
    "print(value[\"answer\"])"
   ]
  },
  {
   "cell_type": "code",
   "execution_count": 23,
   "metadata": {},
   "outputs": [
    {
     "name": "stdout",
     "output_type": "stream",
     "text": [
      "-------------------------------------------------------------------------------- Decisioner --------------------------------------------------------------------------------\n",
      "{'messages': [HumanMessage(content='Hi, my name is Vinay?', id='a2385c48-638d-4fba-a4be-abc669ecfad3'), AIMessage(content=\"Nice to meet you, Vinay! I'm happy to chat with you. What's on your mind?\", id='1cd22ac0-f4e1-4f29-86f9-bbd242152a4e'), HumanMessage(content='Remember my Name?', id='10e96675-5be1-423a-89b3-4967bd498539'), AIMessage(content='Vinay', id='3ff10321-a7e7-45fe-b07c-82db8c3fcd0e'), HumanMessage(content='What was my previous question?', id='ed48cd63-ba29-410d-9d1a-c254f726fa87'), AIMessage(content='Remember my Name?', id='bc394656-795e-4a0c-ba1d-8e2901ad20bf'), HumanMessage(content='What is magic_function(5,7) ?', id='0ebfe345-8156-4233-ac57-ee1eda732f41'), AIMessage(content=\"I don't know.\", id='8b8cf540-a64d-48e5-a8a2-2b3d8ede47dc')], 'question': 'What is magic_function(5,7) ?', 'datasource': 'magic_function', 'websearch_docs': None, 'magic_answer': 35.0, 'answer': \"I don't know.\"}\n",
      "--------------------------------------------------------------------------------------------------------------------------------------------------------------------------------------------------------\n",
      "1\n",
      "-------------------------------------------------------------------------------- Routing Question --------------------------------------------------------------------------------\n",
      "{'messages': [HumanMessage(content='Hi, my name is Vinay?', id='a2385c48-638d-4fba-a4be-abc669ecfad3'), AIMessage(content=\"Nice to meet you, Vinay! I'm happy to chat with you. What's on your mind?\", id='1cd22ac0-f4e1-4f29-86f9-bbd242152a4e'), HumanMessage(content='Remember my Name?', id='10e96675-5be1-423a-89b3-4967bd498539'), AIMessage(content='Vinay', id='3ff10321-a7e7-45fe-b07c-82db8c3fcd0e'), HumanMessage(content='What was my previous question?', id='ed48cd63-ba29-410d-9d1a-c254f726fa87'), AIMessage(content='Remember my Name?', id='bc394656-795e-4a0c-ba1d-8e2901ad20bf'), HumanMessage(content='What is magic_function(5,7) ?', id='0ebfe345-8156-4233-ac57-ee1eda732f41'), AIMessage(content=\"I don't know.\", id='8b8cf540-a64d-48e5-a8a2-2b3d8ede47dc'), HumanMessage(content='What is magic_function(5,7) ?', id='a3e40390-c7e9-48db-aab8-ca0e3fdd60fc')], 'question': 'What is magic_function(5,7) ?', 'datasource': 'magic_function', 'magic_answer': 35.0, 'answer': [5.0, 7.0]}\n",
      "--------------------------------------------------------------------------------------------------------------------------------------------------------------------------------------------------------\n",
      "-------------------------------------------------------------------------------- Magic Function --------------------------------------------------------------------------------\n",
      "{'messages': [HumanMessage(content='Hi, my name is Vinay?', id='a2385c48-638d-4fba-a4be-abc669ecfad3'), AIMessage(content=\"Nice to meet you, Vinay! I'm happy to chat with you. What's on your mind?\", id='1cd22ac0-f4e1-4f29-86f9-bbd242152a4e'), HumanMessage(content='Remember my Name?', id='10e96675-5be1-423a-89b3-4967bd498539'), AIMessage(content='Vinay', id='3ff10321-a7e7-45fe-b07c-82db8c3fcd0e'), HumanMessage(content='What was my previous question?', id='ed48cd63-ba29-410d-9d1a-c254f726fa87'), AIMessage(content='Remember my Name?', id='bc394656-795e-4a0c-ba1d-8e2901ad20bf'), HumanMessage(content='What is magic_function(5,7) ?', id='0ebfe345-8156-4233-ac57-ee1eda732f41'), AIMessage(content=\"I don't know.\", id='8b8cf540-a64d-48e5-a8a2-2b3d8ede47dc'), HumanMessage(content='What is magic_function(5,7) ?', id='a3e40390-c7e9-48db-aab8-ca0e3fdd60fc')], 'question': 'What is magic_function(5,7) ?', 'datasource': 'magic_function', 'websearch_docs': None, 'magic_answer': 35.0, 'answer': [5.0, 7.0]}\n",
      "--------------------------------------------------------------------------------------------------------------------------------------------------------------------------------------------------------\n",
      "-------------------------------------------------------------------------------- Final Generate --------------------------------------------------------------------------------\n",
      "{'messages': [HumanMessage(content='Hi, my name is Vinay?', id='a2385c48-638d-4fba-a4be-abc669ecfad3'), AIMessage(content=\"Nice to meet you, Vinay! I'm happy to chat with you. What's on your mind?\", id='1cd22ac0-f4e1-4f29-86f9-bbd242152a4e'), HumanMessage(content='Remember my Name?', id='10e96675-5be1-423a-89b3-4967bd498539'), AIMessage(content='Vinay', id='3ff10321-a7e7-45fe-b07c-82db8c3fcd0e'), HumanMessage(content='What was my previous question?', id='ed48cd63-ba29-410d-9d1a-c254f726fa87'), AIMessage(content='Remember my Name?', id='bc394656-795e-4a0c-ba1d-8e2901ad20bf'), HumanMessage(content='What is magic_function(5,7) ?', id='0ebfe345-8156-4233-ac57-ee1eda732f41'), AIMessage(content=\"I don't know.\", id='8b8cf540-a64d-48e5-a8a2-2b3d8ede47dc'), HumanMessage(content='What is magic_function(5,7) ?', id='a3e40390-c7e9-48db-aab8-ca0e3fdd60fc')], 'question': 'What is magic_function(5,7) ?', 'datasource': 'magic_function', 'websearch_docs': None, 'magic_answer': 35.0, 'answer': [5.0, 7.0]}\n",
      "--------------------------------------------------------------------------------------------------------------------------------------------------------------------------------------------------------\n",
      "\n",
      "\n",
      "\n",
      "I don't know.\n"
     ]
    }
   ],
   "source": [
    "config = {\"configurable\": {\"thread_id\": \"sess5\"}}\n",
    "\n",
    "inputs = {\"question\": \"What is magic_function(5,7) ?\"}\n",
    "for output in graph.stream(inputs, config=config):\n",
    "    for key, value in output.items():\n",
    "        # pprint(f\"Finished running: {key}:\")\n",
    "        pass\n",
    "\n",
    "print('\\n'*2)\n",
    "print(value[\"answer\"])"
   ]
  },
  {
   "cell_type": "code",
   "execution_count": 24,
   "metadata": {},
   "outputs": [
    {
     "name": "stdout",
     "output_type": "stream",
     "text": [
      "-------------------------------------------------------------------------------- Decisioner --------------------------------------------------------------------------------\n",
      "{'messages': [HumanMessage(content='Hi, my name is Vinay?', id='a2385c48-638d-4fba-a4be-abc669ecfad3'), AIMessage(content=\"Nice to meet you, Vinay! I'm happy to chat with you. What's on your mind?\", id='1cd22ac0-f4e1-4f29-86f9-bbd242152a4e'), HumanMessage(content='Remember my Name?', id='10e96675-5be1-423a-89b3-4967bd498539'), AIMessage(content='Vinay', id='3ff10321-a7e7-45fe-b07c-82db8c3fcd0e'), HumanMessage(content='What was my previous question?', id='ed48cd63-ba29-410d-9d1a-c254f726fa87'), AIMessage(content='Remember my Name?', id='bc394656-795e-4a0c-ba1d-8e2901ad20bf'), HumanMessage(content='What is magic_function(5,7) ?', id='0ebfe345-8156-4233-ac57-ee1eda732f41'), AIMessage(content=\"I don't know.\", id='8b8cf540-a64d-48e5-a8a2-2b3d8ede47dc'), HumanMessage(content='What is magic_function(5,7) ?', id='a3e40390-c7e9-48db-aab8-ca0e3fdd60fc'), AIMessage(content=\"I don't know.\", id='f62b9b70-ca43-4c46-a136-648ea1a2f06b')], 'question': 'What is the weather in New Delhi right now?', 'datasource': 'magic_function', 'websearch_docs': None, 'magic_answer': 35.0, 'answer': \"I don't know.\"}\n",
      "--------------------------------------------------------------------------------------------------------------------------------------------------------------------------------------------------------\n",
      "1\n",
      "-------------------------------------------------------------------------------- Routing Question --------------------------------------------------------------------------------\n",
      "{'messages': [HumanMessage(content='Hi, my name is Vinay?', id='a2385c48-638d-4fba-a4be-abc669ecfad3'), AIMessage(content=\"Nice to meet you, Vinay! I'm happy to chat with you. What's on your mind?\", id='1cd22ac0-f4e1-4f29-86f9-bbd242152a4e'), HumanMessage(content='Remember my Name?', id='10e96675-5be1-423a-89b3-4967bd498539'), AIMessage(content='Vinay', id='3ff10321-a7e7-45fe-b07c-82db8c3fcd0e'), HumanMessage(content='What was my previous question?', id='ed48cd63-ba29-410d-9d1a-c254f726fa87'), AIMessage(content='Remember my Name?', id='bc394656-795e-4a0c-ba1d-8e2901ad20bf'), HumanMessage(content='What is magic_function(5,7) ?', id='0ebfe345-8156-4233-ac57-ee1eda732f41'), AIMessage(content=\"I don't know.\", id='8b8cf540-a64d-48e5-a8a2-2b3d8ede47dc'), HumanMessage(content='What is magic_function(5,7) ?', id='a3e40390-c7e9-48db-aab8-ca0e3fdd60fc'), AIMessage(content=\"I don't know.\", id='f62b9b70-ca43-4c46-a136-648ea1a2f06b'), HumanMessage(content='What is the weather in New Delhi right now?', id='8c3d0bf0-18b7-4d22-bdbb-1ecd583a5190')], 'question': 'What is the weather in New Delhi right now?', 'datasource': 'websearch', 'magic_answer': 35.0, 'answer': ''}\n",
      "--------------------------------------------------------------------------------------------------------------------------------------------------------------------------------------------------------\n",
      "-------------------------------------------------------------------------------- Websearch --------------------------------------------------------------------------------\n",
      "{'messages': [HumanMessage(content='Hi, my name is Vinay?', id='a2385c48-638d-4fba-a4be-abc669ecfad3'), AIMessage(content=\"Nice to meet you, Vinay! I'm happy to chat with you. What's on your mind?\", id='1cd22ac0-f4e1-4f29-86f9-bbd242152a4e'), HumanMessage(content='Remember my Name?', id='10e96675-5be1-423a-89b3-4967bd498539'), AIMessage(content='Vinay', id='3ff10321-a7e7-45fe-b07c-82db8c3fcd0e'), HumanMessage(content='What was my previous question?', id='ed48cd63-ba29-410d-9d1a-c254f726fa87'), AIMessage(content='Remember my Name?', id='bc394656-795e-4a0c-ba1d-8e2901ad20bf'), HumanMessage(content='What is magic_function(5,7) ?', id='0ebfe345-8156-4233-ac57-ee1eda732f41'), AIMessage(content=\"I don't know.\", id='8b8cf540-a64d-48e5-a8a2-2b3d8ede47dc'), HumanMessage(content='What is magic_function(5,7) ?', id='a3e40390-c7e9-48db-aab8-ca0e3fdd60fc'), AIMessage(content=\"I don't know.\", id='f62b9b70-ca43-4c46-a136-648ea1a2f06b'), HumanMessage(content='What is the weather in New Delhi right now?', id='8c3d0bf0-18b7-4d22-bdbb-1ecd583a5190')], 'question': 'What is the weather in New Delhi right now?', 'datasource': 'websearch', 'websearch_docs': None, 'magic_answer': 35.0, 'answer': ''}\n",
      "--------------------------------------------------------------------------------------------------------------------------------------------------------------------------------------------------------\n",
      "-------------------------------------------------------------------------------- Final Generate --------------------------------------------------------------------------------\n",
      "{'messages': [HumanMessage(content='Hi, my name is Vinay?', id='a2385c48-638d-4fba-a4be-abc669ecfad3'), AIMessage(content=\"Nice to meet you, Vinay! I'm happy to chat with you. What's on your mind?\", id='1cd22ac0-f4e1-4f29-86f9-bbd242152a4e'), HumanMessage(content='Remember my Name?', id='10e96675-5be1-423a-89b3-4967bd498539'), AIMessage(content='Vinay', id='3ff10321-a7e7-45fe-b07c-82db8c3fcd0e'), HumanMessage(content='What was my previous question?', id='ed48cd63-ba29-410d-9d1a-c254f726fa87'), AIMessage(content='Remember my Name?', id='bc394656-795e-4a0c-ba1d-8e2901ad20bf'), HumanMessage(content='What is magic_function(5,7) ?', id='0ebfe345-8156-4233-ac57-ee1eda732f41'), AIMessage(content=\"I don't know.\", id='8b8cf540-a64d-48e5-a8a2-2b3d8ede47dc'), HumanMessage(content='What is magic_function(5,7) ?', id='a3e40390-c7e9-48db-aab8-ca0e3fdd60fc'), AIMessage(content=\"I don't know.\", id='f62b9b70-ca43-4c46-a136-648ea1a2f06b'), HumanMessage(content='What is the weather in New Delhi right now?', id='8c3d0bf0-18b7-4d22-bdbb-1ecd583a5190')], 'question': 'What is the weather in New Delhi right now?', 'datasource': 'websearch', 'websearch_docs': [Document(page_content=\"{'location': {'name': 'New Delhi', 'region': 'Delhi', 'country': 'India', 'lat': 28.6, 'lon': 77.2, 'tz_id': 'Asia/Kolkata', 'localtime_epoch': 1718458029, 'localtime': '2024-06-15 18:57'}, 'current': {'last_updated_epoch': 1718457300, 'last_updated': '2024-06-15 18:45', 'temp_c': 43.1, 'temp_f': 109.6, 'is_day': 1, 'condition': {'text': 'Mist', 'icon': '//cdn.weatherapi.com/weather/64x64/day/143.png', 'code': 1030}, 'wind_mph': 6.9, 'wind_kph': 11.2, 'wind_degree': 290, 'wind_dir': 'WNW', 'pressure_mb': 997.0, 'pressure_in': 29.44, 'precip_mm': 0.0, 'precip_in': 0.0, 'humidity': 16, 'cloud': 25, 'feelslike_c': 44.7, 'feelslike_f': 112.5, 'windchill_c': 45.1, 'windchill_f': 113.1, 'heatindex_c': 48.1, 'heatindex_f': 118.5, 'dewpoint_c': 8.8, 'dewpoint_f': 47.8, 'vis_km': 5.0, 'vis_miles': 3.0, 'uv': 11.0, 'gust_mph': 14.9, 'gust_kph': 23.9}}\\n13.06.2024 strong surface winds429 w/ 20 w/ partly cloudy sky. heat wave conditions at a few places. (speed 30-40 kmph) occasionally in gusty during the day. 14.06.2024 43 0w/ 2wsw/ partly cloudy sky. heat wave conditions at a few places. strong surface winds (speed 25-35 kmph) occasionally in gusty during the day. 15.06.2024 45 3 0 w/2w ...\")], 'magic_answer': 35.0, 'answer': ''}\n",
      "--------------------------------------------------------------------------------------------------------------------------------------------------------------------------------------------------------\n",
      "\n",
      "\n",
      "\n",
      "According to the provided context, as of June 15th, 2024, at 18:57, the weather in New Delhi is misty with a temperature of 43.1°C (109.6°F).\n"
     ]
    }
   ],
   "source": [
    "config = {\"configurable\": {\"thread_id\": \"sess5\"}}\n",
    "\n",
    "inputs = {\"question\": \"What is the weather in New Delhi right now?\"}\n",
    "for output in graph.stream(inputs, config=config):\n",
    "    for key, value in output.items():\n",
    "        # pprint(f\"Finished running: {key}:\")\n",
    "        pass\n",
    "\n",
    "print('\\n'*2)\n",
    "print(value[\"answer\"])"
   ]
  },
  {
   "cell_type": "code",
   "execution_count": null,
   "metadata": {},
   "outputs": [],
   "source": []
  }
 ],
 "metadata": {
  "kernelspec": {
   "display_name": "dl",
   "language": "python",
   "name": "python3"
  },
  "language_info": {
   "codemirror_mode": {
    "name": "ipython",
    "version": 3
   },
   "file_extension": ".py",
   "mimetype": "text/x-python",
   "name": "python",
   "nbconvert_exporter": "python",
   "pygments_lexer": "ipython3",
   "version": "3.10.14"
  }
 },
 "nbformat": 4,
 "nbformat_minor": 2
}

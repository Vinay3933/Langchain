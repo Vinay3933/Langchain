{
 "cells": [
  {
   "cell_type": "code",
   "execution_count": 1,
   "metadata": {},
   "outputs": [
    {
     "name": "stdout",
     "output_type": "stream",
     "text": [
      "Connection estabilished.\n"
     ]
    }
   ],
   "source": [
    "from neo4j import GraphDatabase\n",
    "\n",
    "# URI examples: \"neo4j://localhost\", \"neo4j+s://xxx.databases.neo4j.io\"\n",
    "URI = \"neo4j://localhost:7687\"\n",
    "AUTH = (\"neo4j\", \"rag_vector_2024\")\n",
    "\n",
    "with GraphDatabase.driver(URI, auth=AUTH) as driver:\n",
    "    driver.verify_connectivity()\n",
    "    print(\"Connection estabilished.\")\n",
    "\n",
    "    players = driver.execute_query(\n",
    "        \"MATCH (p:PLAYER) RETURN p \",\n",
    "        database_=\"neo4j\",\n",
    "    )\n"
   ]
  },
  {
   "cell_type": "code",
   "execution_count": 2,
   "metadata": {},
   "outputs": [
    {
     "data": {
      "text/plain": [
       "[<Record p=<Node element_id='4:fc3b3c67-889a-4e5a-bcae-436e3897d093:0' labels=frozenset({'PLAYER'}) properties={'number': 0, 'name': 'Russell Westbrook', 'weight': 91, 'age': 33, 'height': 1.91}>>,\n",
       " <Record p=<Node element_id='4:fc3b3c67-889a-4e5a-bcae-436e3897d093:1' labels=frozenset({'PLAYER'}) properties={'number': 6, 'name': 'LeBron James', 'weight': 113, 'age': 36, 'height': 2.06}>>,\n",
       " <Record p=<Node element_id='4:fc3b3c67-889a-4e5a-bcae-436e3897d093:2' labels=frozenset({'PLAYER'}) properties={'number': 23, 'name': 'Anthony Davis', 'weight': 115, 'age': 28, 'height': 2.08}>>,\n",
       " <Record p=<Node element_id='4:fc3b3c67-889a-4e5a-bcae-436e3897d093:3' labels=frozenset({'PLAYER'}) properties={'number': 12, 'name': 'Ja Morant', 'weight': 79, 'age': 22, 'height': 1.91}>>,\n",
       " <Record p=<Node element_id='4:fc3b3c67-889a-4e5a-bcae-436e3897d093:4' labels=frozenset({'PLAYER'}) properties={'number': 77, 'name': 'Luka Doncic', 'weight': 104, 'age': 22, 'height': 2.01}>>,\n",
       " <Record p=<Node element_id='4:fc3b3c67-889a-4e5a-bcae-436e3897d093:5' labels=frozenset({'PLAYER'}) properties={'number': 6, 'name': 'Kristaps Porzingis', 'weight': 109, 'age': 26, 'height': 2.21}>>,\n",
       " <Record p=<Node element_id='4:fc3b3c67-889a-4e5a-bcae-436e3897d093:6' labels=frozenset({'PLAYER'}) properties={'number': 7, 'name': 'Kevin Durant', 'weight': 109, 'age': 33, 'height': 2.08}>>,\n",
       " <Record p=<Node element_id='4:fc3b3c67-889a-4e5a-bcae-436e3897d093:7' labels=frozenset({'PLAYER'}) properties={'number': 13, 'name': 'James Harden', 'weight': 100, 'age': 32, 'height': 1.96}>>,\n",
       " <Record p=<Node element_id='4:fc3b3c67-889a-4e5a-bcae-436e3897d093:8' labels=frozenset({'PLAYER'}) properties={'number': 34, 'name': 'Giannis Antetokounmpo', 'weight': 110, 'age': 26, 'height': 2.11}>>,\n",
       " <Record p=<Node element_id='4:fc3b3c67-889a-4e5a-bcae-436e3897d093:9' labels=frozenset({'PLAYER'}) properties={'number': 22, 'name': 'Khris Middleton', 'weight': 100, 'age': 30, 'height': 2.01}>>,\n",
       " <Record p=<Node element_id='4:fc3b3c67-889a-4e5a-bcae-436e3897d093:10' labels=frozenset({'PLAYER'}) properties={'number': 21, 'name': 'Joel Embiid', 'weight': 127, 'age': 27, 'height': 2.13}>>,\n",
       " <Record p=<Node element_id='4:fc3b3c67-889a-4e5a-bcae-436e3897d093:11' labels=frozenset({'PLAYER'}) properties={'number': 22, 'name': 'Tobias Harris', 'weight': 100, 'age': 29, 'height': 2.03}>>]"
      ]
     },
     "execution_count": 2,
     "metadata": {},
     "output_type": "execute_result"
    }
   ],
   "source": [
    "players[0]"
   ]
  },
  {
   "cell_type": "code",
   "execution_count": 3,
   "metadata": {},
   "outputs": [
    {
     "name": "stdout",
     "output_type": "stream",
     "text": [
      "{'p': {'number': 0, 'name': 'Russell Westbrook', 'weight': 91, 'age': 33, 'height': 1.91}}\n",
      "{'p': {'number': 6, 'name': 'LeBron James', 'weight': 113, 'age': 36, 'height': 2.06}}\n",
      "{'p': {'number': 23, 'name': 'Anthony Davis', 'weight': 115, 'age': 28, 'height': 2.08}}\n",
      "{'p': {'number': 12, 'name': 'Ja Morant', 'weight': 79, 'age': 22, 'height': 1.91}}\n",
      "{'p': {'number': 77, 'name': 'Luka Doncic', 'weight': 104, 'age': 22, 'height': 2.01}}\n",
      "{'p': {'number': 6, 'name': 'Kristaps Porzingis', 'weight': 109, 'age': 26, 'height': 2.21}}\n",
      "{'p': {'number': 7, 'name': 'Kevin Durant', 'weight': 109, 'age': 33, 'height': 2.08}}\n",
      "{'p': {'number': 13, 'name': 'James Harden', 'weight': 100, 'age': 32, 'height': 1.96}}\n",
      "{'p': {'number': 34, 'name': 'Giannis Antetokounmpo', 'weight': 110, 'age': 26, 'height': 2.11}}\n",
      "{'p': {'number': 22, 'name': 'Khris Middleton', 'weight': 100, 'age': 30, 'height': 2.01}}\n",
      "{'p': {'number': 21, 'name': 'Joel Embiid', 'weight': 127, 'age': 27, 'height': 2.13}}\n",
      "{'p': {'number': 22, 'name': 'Tobias Harris', 'weight': 100, 'age': 29, 'height': 2.03}}\n"
     ]
    }
   ],
   "source": [
    "for record in players[0]:\n",
    "    print(record.data())"
   ]
  },
  {
   "cell_type": "code",
   "execution_count": 5,
   "metadata": {},
   "outputs": [
    {
     "data": {
      "text/plain": [
       "{'query': 'MATCH (p:PLAYER) RETURN p ',\n",
       " 'parameters': {},\n",
       " 'server': <neo4j.api.ServerInfo at 0x309adafb0>,\n",
       " 'database': None,\n",
       " 't_first': 1,\n",
       " 'fields': ['p'],\n",
       " 'qid': 0,\n",
       " 'type': 'r',\n",
       " 't_last': 1,\n",
       " 'db': 'neo4j'}"
      ]
     },
     "execution_count": 5,
     "metadata": {},
     "output_type": "execute_result"
    }
   ],
   "source": [
    "summary = players[1]\n",
    "summary.metadata"
   ]
  },
  {
   "cell_type": "code",
   "execution_count": 8,
   "metadata": {},
   "outputs": [
    {
     "name": "stdout",
     "output_type": "stream",
     "text": [
      "Connection estabilished.\n"
     ]
    }
   ],
   "source": [
    "from neo4j import GraphDatabase\n",
    "\n",
    "# URI examples: \"neo4j://localhost\", \"neo4j+s://xxx.databases.neo4j.io\"\n",
    "URI = \"neo4j://localhost:7687\"\n",
    "AUTH = (\"neo4j\", \"rag_vector_2024\")\n",
    "\n",
    "with GraphDatabase.driver(URI, auth=AUTH) as driver:\n",
    "    driver.verify_connectivity()\n",
    "    print(\"Connection estabilished.\")\n",
    "\n",
    "    results = driver.execute_query(\n",
    "        \"MATCH (n) RETURN n \",\n",
    "        database_=\"mjdb\",\n",
    "    )\n"
   ]
  },
  {
   "cell_type": "code",
   "execution_count": 9,
   "metadata": {},
   "outputs": [
    {
     "data": {
      "text/plain": [
       "EagerResult(records=[], summary=<neo4j._work.summary.ResultSummary object at 0x30f8a0e50>, keys=['n'])"
      ]
     },
     "execution_count": 9,
     "metadata": {},
     "output_type": "execute_result"
    }
   ],
   "source": [
    "results"
   ]
  },
  {
   "cell_type": "code",
   "execution_count": null,
   "metadata": {},
   "outputs": [],
   "source": []
  }
 ],
 "metadata": {
  "kernelspec": {
   "display_name": "dl",
   "language": "python",
   "name": "python3"
  },
  "language_info": {
   "codemirror_mode": {
    "name": "ipython",
    "version": 3
   },
   "file_extension": ".py",
   "mimetype": "text/x-python",
   "name": "python",
   "nbconvert_exporter": "python",
   "pygments_lexer": "ipython3",
   "version": "3.10.14"
  }
 },
 "nbformat": 4,
 "nbformat_minor": 2
}
